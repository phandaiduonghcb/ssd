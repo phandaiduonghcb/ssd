{
 "cells": [
  {
   "cell_type": "code",
   "execution_count": 1,
   "metadata": {},
   "outputs": [
    {
     "name": "stderr",
     "output_type": "stream",
     "text": [
      "2022-11-14 04:45:41.438626: I tensorflow/core/platform/cpu_feature_guard.cc:193] This TensorFlow binary is optimized with oneAPI Deep Neural Network Library (oneDNN) to use the following CPU instructions in performance-critical operations:  AVX2 FMA\n",
      "To enable them in other operations, rebuild TensorFlow with the appropriate compiler flags.\n",
      "2022-11-14 04:45:41.832636: E tensorflow/stream_executor/cuda/cuda_blas.cc:2981] Unable to register cuBLAS factory: Attempting to register factory for plugin cuBLAS when one has already been registered\n"
     ]
    }
   ],
   "source": [
    "import tensorflow as tf\n",
    "from tensorflow.keras import layers\n"
   ]
  },
  {
   "cell_type": "code",
   "execution_count": 12,
   "metadata": {},
   "outputs": [],
   "source": [
    "examples = tf.random.uniform((1,300,300,3), dtype=tf.float32, minval=0, maxval=255)"
   ]
  },
  {
   "cell_type": "code",
   "execution_count": 57,
   "metadata": {},
   "outputs": [
    {
     "name": "stdout",
     "output_type": "stream",
     "text": [
      "(1, 38, 38, 512)\n",
      "(1, 19, 19, 1024)\n",
      "(1, 10, 10, 512)\n",
      "(1, 5, 5, 256)\n",
      "(1, 3, 3, 256)\n",
      "(1, 1, 1, 256)\n"
     ]
    }
   ],
   "source": [
    "def down_sample_blk(out_channels):\n",
    "    blk = []\n",
    "    for _ in range(2):\n",
    "        blk.append(tf.keras.layers.Conv2D(out_channels,\n",
    "                             kernel_size=3, padding='same'))\n",
    "        blk.append(tf.keras.layers.BatchNormalization())\n",
    "        blk.append(tf.keras.layers.ReLU())\n",
    "    blk.append(tf.keras.layers.MaxPool2D(pool_size=2))\n",
    "    return tf.keras.models.Sequential(blk)\n",
    "\n",
    "def vgg_block(num_convs, num_channels):\n",
    "    blk = tf.keras.models.Sequential()\n",
    "    for _ in range(num_convs):\n",
    "        blk.add(\n",
    "            tf.keras.layers.Conv2D(num_channels, kernel_size=3,\n",
    "                                   padding='same', activation='relu'))\n",
    "    blk.add(tf.keras.layers.MaxPool2D(pool_size=2, strides=2,padding=\"same\"))\n",
    "    return blk\n",
    "def conv4_3():\n",
    "    return tf.keras.models.Sequential([\n",
    "        vgg_block(2,64),\n",
    "        vgg_block(2,128),\n",
    "        vgg_block(3,256),\n",
    "        tf.keras.layers.Conv2D(512, kernel_size=3,\n",
    "                                   padding='same', activation='relu'),\n",
    "        tf.keras.layers.Conv2D(512, kernel_size=3,\n",
    "                                   padding='same', activation='relu'),\n",
    "        tf.keras.layers.Conv2D(512, kernel_size=3,\n",
    "                                   padding='same', activation='relu')\n",
    "    ])\n",
    "\n",
    "def fc_7():\n",
    "    return tf.keras.models.Sequential([\n",
    "        tf.keras.layers.MaxPool2D(2,2),\n",
    "        tf.keras.layers.Conv2D(512, kernel_size=3,\n",
    "                                   padding='same', activation='relu'),\n",
    "        tf.keras.layers.Conv2D(512, kernel_size=3,\n",
    "                                   padding='same', activation='relu'),\n",
    "        tf.keras.layers.Conv2D(512, kernel_size=3,\n",
    "                                   padding='same', activation='relu'),\n",
    "        tf.keras.layers.MaxPool2D(3,1,padding='same'),\n",
    "        tf.keras.layers.Conv2D(1024,3,padding=\"same\"),\n",
    "        tf.keras.layers.Conv2D(1024,1,padding=\"same\"),\n",
    "    ])\n",
    "\n",
    "def conv8_2():\n",
    "    return tf.keras.models.Sequential([\n",
    "    tf.keras.layers.Conv2D(256,1,padding=\"same\"),\n",
    "    tf.keras.layers.Conv2D(512,3,padding=\"same\", strides=2),\n",
    "    ])\n",
    "\n",
    "def conv9_2():\n",
    "    return tf.keras.models.Sequential([\n",
    "    tf.keras.layers.Conv2D(128,1,padding=\"same\"),\n",
    "    tf.keras.layers.Conv2D(256,3,padding=\"same\", strides=2),\n",
    "    ])\n",
    "def conv10_2():\n",
    "    return conv9_2()\n",
    "\n",
    "def conv11_2():\n",
    "    return tf.keras.layers.GlobalAveragePooling2D(keepdims=True)\n",
    "# blks = [\n",
    "#     vgg_block(2,64),\n",
    "#     vgg_block(2,128),\n",
    "#     vgg_block(3,256),\n",
    "#     vgg_block(3,512),\n",
    "#     vgg_block(3,512),\n",
    "\n",
    "#     # tf.keras.layers.Conv2D(1024,3,padding=\"same\"),\n",
    "#     # tf.keras.layers.Conv2D(1024,1,padding=\"same\"),\n",
    "\n",
    "#     # tf.keras.layers.Conv2D(256,1,padding=\"same\"),\n",
    "#     # tf.keras.layers.Conv2D(512,3,padding=\"same\", strides=2),\n",
    "\n",
    "#     # tf.keras.layers.Conv2D(128,1,padding=\"same\"),\n",
    "#     # tf.keras.layers.Conv2D(256,3,padding=\"same\", strides=2),\n",
    "\n",
    "#     # tf.keras.layers.Conv2D(128,1,padding=\"same\"),\n",
    "#     # tf.keras.layers.Conv2D(256,3,padding=\"same\", strides=2),\n",
    "\n",
    "#     # tf.keras.layers.GlobalAveragePooling2D(keepdims=True),\n",
    "# ]\n",
    "\n",
    "blks = [\n",
    "    conv4_3(),\n",
    "    fc_7(),\n",
    "    conv8_2(),\n",
    "    conv9_2(),\n",
    "    conv10_2(),\n",
    "    conv11_2(),\n",
    "]\n",
    "vgg_blocks = tf.keras.models.Sequential(blks)\n",
    "examples = tf.random.uniform((1,300,300,3), dtype=tf.float32, minval=0, maxval=255)\n",
    "# vgg_blocks(examples)\n",
    "for blk in blks:\n",
    "    \n",
    "    examples = blk(examples)\n",
    "    print(examples.shape)"
   ]
  },
  {
   "cell_type": "code",
   "execution_count": 25,
   "metadata": {},
   "outputs": [
    {
     "data": {
      "text/plain": [
       "<tf.Tensor: shape=(1, 2, 2, 256), dtype=float32, numpy=\n",
       "array([[[[ 0.25216255, -0.19294423, -0.5687745 , ...,  0.28736937,\n",
       "           0.19958235, -0.48744464],\n",
       "         [ 1.207684  , -1.1445202 , -0.6397885 , ...,  0.6514596 ,\n",
       "          -0.2160021 , -0.68929625]],\n",
       "\n",
       "        [[-0.22901106, -0.39233539,  1.0736238 , ..., -0.14732064,\n",
       "          -0.8068203 , -0.2541527 ],\n",
       "         [ 1.1012512 ,  0.63099253, -0.25680518, ..., -0.54186434,\n",
       "          -0.39874637,  0.1633453 ]]]], dtype=float32)>"
      ]
     },
     "execution_count": 25,
     "metadata": {},
     "output_type": "execute_result"
    }
   ],
   "source": [
    "layer = conv10_2()\n",
    "layer(tf.random.normal((1,3,3,256)))"
   ]
  },
  {
   "cell_type": "code",
   "execution_count": 37,
   "metadata": {},
   "outputs": [
    {
     "name": "stdout",
     "output_type": "stream",
     "text": [
      "Model: \"sequential_121\"\n",
      "_________________________________________________________________\n",
      " Layer (type)                Output Shape              Param #   \n",
      "=================================================================\n",
      " sequential_116 (Sequential)  (1, 150, 150, 64)        38720     \n",
      "                                                                 \n",
      " sequential_117 (Sequential)  (1, 75, 75, 128)         221440    \n",
      "                                                                 \n",
      " sequential_118 (Sequential)  (1, 37, 37, 256)         1475328   \n",
      "                                                                 \n",
      " sequential_119 (Sequential)  (1, 18, 18, 512)         5899776   \n",
      "                                                                 \n",
      " sequential_120 (Sequential)  (1, 9, 9, 512)           7079424   \n",
      "                                                                 \n",
      "=================================================================\n",
      "Total params: 14,714,688\n",
      "Trainable params: 14,714,688\n",
      "Non-trainable params: 0\n",
      "_________________________________________________________________\n"
     ]
    }
   ],
   "source": [
    "vgg_blocks.summary()"
   ]
  },
  {
   "cell_type": "code",
   "execution_count": 40,
   "metadata": {},
   "outputs": [
    {
     "data": {
      "text/plain": [
       "TensorShape([1, 9, 9, 512])"
      ]
     },
     "execution_count": 40,
     "metadata": {},
     "output_type": "execute_result"
    }
   ],
   "source": [
    "a = tf.keras.applications.VGG16(\n",
    "    include_top=False,\n",
    "    weights=None,\n",
    "    input_tensor=None,\n",
    "    input_shape=None,\n",
    "    pooling=None,\n",
    "    classes=1,\n",
    "    classifier_activation=\"softmax\",)\n",
    "a.compute_output_shape((1,300,300,3))\n",
    "# a.get_layer('block5_pool').get_config()"
   ]
  },
  {
   "cell_type": "code",
   "execution_count": 65,
   "metadata": {},
   "outputs": [
    {
     "data": {
      "text/plain": [
       "[[0.2, 0.2720294101747089],\n",
       " [0.37, 0.4469899327725402],\n",
       " [0.54, 0.6191930232165088],\n",
       " [0.7100000000000001, 0.7904429138147803],\n",
       " [0.8800000000000001, 0.9612491872558333]]"
      ]
     },
     "execution_count": 65,
     "metadata": {},
     "output_type": "execute_result"
    }
   ],
   "source": [
    "import math\n",
    "def generate_sizes(n=5,start=0.2,end=1.05):\n",
    "    sizes = []\n",
    "    t = (end - start) / n\n",
    "    for i in range(n):\n",
    "        if i==0:\n",
    "            s_0 = start\n",
    "            # s_1 = start + tf.sqrt(s_0*(s_0 + t))\n",
    "            # sizes = [[s_0, s_1]]\n",
    "        else:\n",
    "            s_0 = sizes[-1][0] + t\n",
    "        s_1 = math.sqrt(s_0*(s_0 + t))\n",
    "        sizes.append([s_0, s_1])\n",
    "    return sizes\n",
    "\n",
    "generate_sizes()"
   ]
  },
  {
   "cell_type": "code",
   "execution_count": 63,
   "metadata": {},
   "outputs": [
    {
     "data": {
      "text/plain": [
       "0.17"
      ]
     },
     "execution_count": 63,
     "metadata": {},
     "output_type": "execute_result"
    }
   ],
   "source": [
    "(1.05 - 0.2)/5"
   ]
  }
 ],
 "metadata": {
  "kernelspec": {
   "display_name": "Python 3.8.10 64-bit",
   "language": "python",
   "name": "python3"
  },
  "language_info": {
   "codemirror_mode": {
    "name": "ipython",
    "version": 3
   },
   "file_extension": ".py",
   "mimetype": "text/x-python",
   "name": "python",
   "nbconvert_exporter": "python",
   "pygments_lexer": "ipython3",
   "version": "3.8.10"
  },
  "orig_nbformat": 4,
  "vscode": {
   "interpreter": {
    "hash": "31f2aee4e71d21fbe5cf8b01ff0e069b9275f58929596ceb00d14d90e3e16cd6"
   }
  }
 },
 "nbformat": 4,
 "nbformat_minor": 2
}
